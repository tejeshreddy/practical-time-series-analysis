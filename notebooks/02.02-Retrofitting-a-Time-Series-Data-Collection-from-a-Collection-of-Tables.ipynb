{
 "metadata": {
  "language_info": {
   "codemirror_mode": {
    "name": "ipython",
    "version": 3
   },
   "file_extension": ".py",
   "mimetype": "text/x-python",
   "name": "python",
   "nbconvert_exporter": "python",
   "pygments_lexer": "ipython3",
   "version": 3
  },
  "orig_nbformat": 2
 },
 "nbformat": 4,
 "nbformat_minor": 2,
 "cells": [
  {
   "cell_type": "markdown",
   "metadata": {},
   "source": [
    "# 02.02 Retrofitting a Time Series Data Collection from a Collection of Tables"
   ]
  },
  {
   "cell_type": "markdown",
   "metadata": {},
   "source": [
    "## Lookahead\n",
    "\n",
    "What Is a Lookahead?\n",
    "\n",
    "The term lookahead is used in time series analysis to denote any knowledge of the\n",
    "future. You shouldn’t have such knowledge when designing, training, or evaluating a\n",
    "model. A lookahead is a way, through data, to find out something about the future earlier than you ought to know it.\n",
    "\n",
    "This is problematic because you chose the model for one time knowing things that would happen at a subsequent time—alookahead.\n",
    "\n"
   ]
  }
 ]
}