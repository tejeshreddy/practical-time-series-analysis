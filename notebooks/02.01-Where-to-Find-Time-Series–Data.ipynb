{
 "metadata": {
  "language_info": {
   "codemirror_mode": {
    "name": "ipython",
    "version": 3
   },
   "file_extension": ".py",
   "mimetype": "text/x-python",
   "name": "python",
   "nbconvert_exporter": "python",
   "pygments_lexer": "ipython3",
   "version": "2.7.16-final"
  },
  "orig_nbformat": 2,
  "kernelspec": {
   "name": "python_defaultSpec_1605253691565",
   "display_name": "Python 2.7.16 64-bit"
  }
 },
 "nbformat": 4,
 "nbformat_minor": 2,
 "cells": [
  {
   "cell_type": "markdown",
   "metadata": {},
   "source": [
    "# 02.01 Where to Find Time Series Data "
   ]
  },
  {
   "cell_type": "markdown",
   "metadata": {},
   "source": [
    "## Types of data\n",
    "\n",
    "- Two types of data are present when it comes to time series data\n",
    "1. Prepared data set\n",
    "2. Found data set"
   ]
  },
  {
   "cell_type": "markdown",
   "metadata": {},
   "source": [
    "## Prepared Data Sets\n",
    "\n",
    "- Let's use the data present in the UCI ML Repository containing several time series data for this chapter.\n",
    " - One such data set we'll use now is about [absenteeism at work](https://perma.cc/8E7D-ESGM)\n",
    " "
   ]
  },
  {
   "cell_type": "markdown",
   "metadata": {},
   "source": [
    "As we can see from inspecting the data sets from the above link, you will run into all sorts of data\n",
    "munging challenges. Some of the problems we’ve already noticed are:\n",
    "- Incomplete timestamp\n",
    "- Time axes can be horizontal or vertical in your data\n",
    "- Varying notions of time"
   ]
  },
  {
   "cell_type": "markdown",
   "metadata": {},
   "source": [
    "Univariate Versus Multivariate Time Series\n",
    "\n",
    "- Univariate: When there is one variable measured against time\n",
    "- Multivariate: Are series with multiple variables measured at each timestamp(rich for analysis)"
   ]
  },
  {
   "cell_type": "markdown",
   "metadata": {},
   "source": [
    "## Found Time Series\n",
    "Which is time\n",
    "series data we put together ourselves from data sources in the wild."
   ]
  },
  {
   "cell_type": "markdown",
   "metadata": {},
   "source": [
    "\n",
    "Finding time series data in structured data not explicitly stored as a time series can be\n",
    "easy in the sense that timestamping is ubiquitous.\n",
    "\n",
    "Few examples are:\n",
    "\n",
    "1. Timestamped recordings of events\n",
    "2. “Timeless” measurements where another measurement substitutes for time\n",
    "3. Physical traces"
   ]
  }
 ]
}