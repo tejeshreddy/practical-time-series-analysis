{
 "metadata": {
  "language_info": {
   "codemirror_mode": {
    "name": "ipython",
    "version": 3
   },
   "file_extension": ".py",
   "mimetype": "text/x-python",
   "name": "python",
   "nbconvert_exporter": "python",
   "pygments_lexer": "ipython3",
   "version": "2.7.16-final"
  },
  "orig_nbformat": 2,
  "kernelspec": {
   "name": "python_defaultSpec_1605251914479",
   "display_name": "Python 2.7.16 64-bit"
  }
 },
 "nbformat": 4,
 "nbformat_minor": 2,
 "cells": [
  {
   "cell_type": "markdown",
   "metadata": {},
   "source": [
    "# 02.01 Where to Find Time Series Data "
   ]
  },
  {
   "cell_type": "markdown",
   "metadata": {},
   "source": [
    "- Two types of data are present when it comes to time series data\n",
    "1. Prepared data set\n",
    "2. Found data set"
   ]
  },
  {
   "cell_type": "markdown",
   "metadata": {},
   "source": [
    "Prepared Data Sets\n",
    "\n",
    "- Let's use the data present in the UCI ML Repository containing several time series data for this chapter.\n",
    " - One such data set we'll use now is about [absenteeism at work](https://perma.cc/8E7D-ESGM)\n",
    " "
   ]
  }
 ]
}