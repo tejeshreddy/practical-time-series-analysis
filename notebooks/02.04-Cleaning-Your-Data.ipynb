{
 "metadata": {
  "language_info": {
   "codemirror_mode": {
    "name": "ipython",
    "version": 3
   },
   "file_extension": ".py",
   "mimetype": "text/x-python",
   "name": "python",
   "nbconvert_exporter": "python",
   "pygments_lexer": "ipython3",
   "version": 3
  },
  "orig_nbformat": 2
 },
 "nbformat": 4,
 "nbformat_minor": 2,
 "cells": [
  {
   "cell_type": "markdown",
   "metadata": {},
   "source": [
    "# Cleaning Your Data"
   ]
  },
  {
   "cell_type": "markdown",
   "metadata": {},
   "source": [
    "This section solves problems related to:\n",
    "- Missing data\n",
    "- Changing the frequency of a time series (that is, upsampling and downsampling)\n",
    "- Smoothing data\n",
    "- Addressing seasonality in data\n",
    "- Preventing unintentional lookaheads"
   ]
  },
  {
   "cell_type": "markdown",
   "metadata": {},
   "source": [
    "## Handling Missing Data\n",
    "\n",
    "The most common methods to address missing data in time series are:\n",
    "- Imputation:\n",
    "When we fill in missing data based on observations about the entire data set.\n",
    "- Interpolation:\n",
    "When we use neighboring data points to estimate the missing value. Interpolation\n",
    "can also be a form of imputation.\n",
    "- Deletion of affected time periods:\n",
    "When we choose not to use time periods that have missing data at all."
   ]
  },
  {
   "cell_type": "markdown",
   "metadata": {},
   "source": [
    "- Handling missing date field: \n",
    "With a rolling join, we generate the sequence of all dates that should be available between the start and end date of the data set. This gives us rows in the data set to fill in as NA.\n",
    "\n",
    "- Couple of ways to fill missing numerical fields in the dataset:\n",
    "\n",
    "    1. *Forward fill*: This is an approach to fill in missing values by carry forwarding the last known value prior to the missing one. Advantages to forward fill: it is not computationally demanding, it can be easily applied to live-streamed data, and it does a respectable job with imputation.\n",
    "\n",
    "    2. *Moving average*: We can also impute data with either a rolling mean or median. Known as a moving average, this is similar to a forward fill in that you are using past values to “predict” missing future values.\n",
    "    \n",
    "    3. *Interpolation*:"
   ]
  },
  {
   "cell_type": "code",
   "execution_count": null,
   "metadata": {},
   "outputs": [],
   "source": []
  }
 ]
}